{
 "cells": [
  {
   "cell_type": "markdown",
   "metadata": {
    "id": "NdA4KjrNwn5B",
    "pycharm": {
     "name": "#%% md\n"
    }
   },
   "source": [
    "# ELE6307 - Assignment 1 - Quantization\n",
    "**Due:**  Friday, Feb 11, 2023"
   ]
  },
  {
   "cell_type": "markdown",
   "metadata": {
    "id": "Cm4CU_e6xHpL",
    "pycharm": {
     "name": "#%% md\n"
    }
   },
   "source": [
    "#### Name: \n",
    "#### Student ID: "
   ]
  },
  {
   "cell_type": "code",
   "execution_count": 1,
   "metadata": {
    "colab": {
     "base_uri": "https://localhost:8080/"
    },
    "executionInfo": {
     "elapsed": 923,
     "status": "ok",
     "timestamp": 1671839229310,
     "user": {
      "displayName": "Kamran Chitsaz",
      "userId": "11523427737255564352"
     },
     "user_tz": 300
    },
    "id": "HGmDZ11LULkF",
    "outputId": "16e751c9-4e09-4065-d8f4-410df4036a7f",
    "pycharm": {
     "name": "#%%\n"
    }
   },
   "outputs": [
    {
     "name": "stdout",
     "output_type": "stream",
     "text": [
      "Drive already mounted at /content/gdrive; to attempt to forcibly remount, call drive.mount(\"/content/gdrive\", force_remount=True).\n"
     ]
    }
   ],
   "source": [
    "#@title Mount your Google Drive\n",
    "%matplotlib inline\n",
    "%load_ext autoreload\n",
    "%autoreload 2\n",
    "\n",
    "from google.colab import drive\n",
    "drive.mount('/content/gdrive')\n"
   ]
  },
  {
   "cell_type": "code",
   "execution_count": 2,
   "metadata": {
    "executionInfo": {
     "elapsed": 9338,
     "status": "ok",
     "timestamp": 1671839239084,
     "user": {
      "displayName": "Kamran Chitsaz",
      "userId": "11523427737255564352"
     },
     "user_tz": 300
    },
    "id": "5DF9zCVJULkH",
    "pycharm": {
     "name": "#%%\n"
    }
   },
   "outputs": [],
   "source": [
    "#@title Link your assignment folder & install requirements\n",
    "#@markdown Enter the path to the assignment folder in your Google Drive\n",
    "import sys\n",
    "import os\n",
    "import shutil\n",
    "import warnings\n",
    "\n",
    "folder = \"/content/gdrive/MyDrive/ELE6307_2023/A1\" #@param {type:\"string\"}\n",
    "!ln -Ts $folder /content/A1 2> /dev/null\n",
    "\n",
    "# Add the assignment folder to Python path\n",
    "if '/content/A1' not in sys.path:\n",
    "    sys.path.insert(0, '/content/A1')\n",
    "\n",
    "# Install requirements\n",
    "!pip install -qr /content/A1/requirements.txt\n",
    "\n",
    "# Check if CUDA is available\n",
    "import torch\n",
    "if not torch.cuda.is_available():\n",
    "    warnings.warn('CUDA is not available.')"
   ]
  },
  {
   "cell_type": "markdown",
   "metadata": {
    "id": "-GRPEYhOFAvC",
    "pycharm": {
     "name": "#%% md\n"
    }
   },
   "source": [
    "## Quantization Foundation"
   ]
  },
  {
   "cell_type": "markdown",
   "metadata": {
    "id": "GnYxJmVqyj6a",
    "pycharm": {
     "name": "#%% md\n"
    }
   },
   "source": [
    "## 1- Calibration [20 pts]"
   ]
  },
  {
   "cell_type": "code",
   "execution_count": 1,
   "metadata": {
    "executionInfo": {
     "elapsed": 148,
     "status": "ok",
     "timestamp": 1671840118859,
     "user": {
      "displayName": "Kamran Chitsaz",
      "userId": "11523427737255564352"
     },
     "user_tz": 300
    },
    "id": "TcJ0NuyOoZ4p",
    "pycharm": {
     "name": "#%%\n"
    }
   },
   "outputs": [
    {
     "ename": "ValueError",
     "evalue": "attempted relative import beyond top-level package",
     "output_type": "error",
     "traceback": [
      "\u001b[0;31m---------------------------------------------------------------------------\u001b[0m",
      "\u001b[0;31mValueError\u001b[0m                                Traceback (most recent call last)",
      "\u001b[0;32m<ipython-input-1-9b4b8cf759ed>\u001b[0m in \u001b[0;36m<module>\u001b[0;34m\u001b[0m\n\u001b[0;32m----> 1\u001b[0;31m \u001b[0;32mimport\u001b[0m \u001b[0msolution\u001b[0m\u001b[0;34m\u001b[0m\u001b[0;34m\u001b[0m\u001b[0m\n\u001b[0m\u001b[1;32m      2\u001b[0m \u001b[0;32mfrom\u001b[0m \u001b[0mcommon\u001b[0m\u001b[0;34m.\u001b[0m\u001b[0mtest_functions\u001b[0m \u001b[0;32mimport\u001b[0m \u001b[0;34m*\u001b[0m\u001b[0;34m\u001b[0m\u001b[0;34m\u001b[0m\u001b[0m\n\u001b[1;32m      3\u001b[0m \u001b[0;32mimport\u001b[0m \u001b[0mtorch\u001b[0m\u001b[0;34m\u001b[0m\u001b[0;34m\u001b[0m\u001b[0m\n\u001b[1;32m      4\u001b[0m \u001b[0;32mimport\u001b[0m \u001b[0mnumpy\u001b[0m \u001b[0;32mas\u001b[0m \u001b[0mnp\u001b[0m\u001b[0;34m\u001b[0m\u001b[0;34m\u001b[0m\u001b[0m\n\u001b[1;32m      5\u001b[0m \u001b[0;32mfrom\u001b[0m \u001b[0mmatplotlib\u001b[0m \u001b[0;32mimport\u001b[0m \u001b[0mpyplot\u001b[0m \u001b[0;32mas\u001b[0m \u001b[0mplt\u001b[0m\u001b[0;34m\u001b[0m\u001b[0;34m\u001b[0m\u001b[0m\n",
      "\u001b[0;32m~/TA/ELE6307_2023/A1/solution.py\u001b[0m in \u001b[0;36m<module>\u001b[0;34m\u001b[0m\n\u001b[1;32m      3\u001b[0m \u001b[0;32mimport\u001b[0m \u001b[0mtorch\u001b[0m\u001b[0;34m.\u001b[0m\u001b[0mnn\u001b[0m \u001b[0;32mas\u001b[0m \u001b[0mnn\u001b[0m\u001b[0;34m\u001b[0m\u001b[0;34m\u001b[0m\u001b[0m\n\u001b[1;32m      4\u001b[0m \u001b[0;32mimport\u001b[0m \u001b[0mwarnings\u001b[0m\u001b[0;34m\u001b[0m\u001b[0;34m\u001b[0m\u001b[0m\n\u001b[0;32m----> 5\u001b[0;31m \u001b[0;32mfrom\u001b[0m \u001b[0mcommon\u001b[0m\u001b[0;34m.\u001b[0m\u001b[0mutils\u001b[0m \u001b[0;32mimport\u001b[0m \u001b[0minteger_linear\u001b[0m\u001b[0;34m,\u001b[0m \u001b[0minteger_conv2d\u001b[0m\u001b[0;34m\u001b[0m\u001b[0;34m\u001b[0m\u001b[0m\n\u001b[0m\u001b[1;32m      6\u001b[0m \u001b[0;32mfrom\u001b[0m \u001b[0mscipy\u001b[0m\u001b[0;34m.\u001b[0m\u001b[0moptimize\u001b[0m \u001b[0;32mimport\u001b[0m \u001b[0mminimize\u001b[0m\u001b[0;34m\u001b[0m\u001b[0;34m\u001b[0m\u001b[0m\n\u001b[1;32m      7\u001b[0m \u001b[0;32mfrom\u001b[0m \u001b[0mscipy\u001b[0m \u001b[0;32mimport\u001b[0m \u001b[0mstats\u001b[0m\u001b[0;34m\u001b[0m\u001b[0;34m\u001b[0m\u001b[0m\n",
      "\u001b[0;32m~/TA/ELE6307_2023/A1/common/__init__.py\u001b[0m in \u001b[0;36m<module>\u001b[0;34m\u001b[0m\n\u001b[0;32m----> 1\u001b[0;31m \u001b[0;32mfrom\u001b[0m \u001b[0;34m.\u001b[0m\u001b[0mresnet\u001b[0m \u001b[0;32mimport\u001b[0m \u001b[0mresnet20\u001b[0m\u001b[0;34m\u001b[0m\u001b[0;34m\u001b[0m\u001b[0m\n\u001b[0m\u001b[1;32m      2\u001b[0m \u001b[0;32mfrom\u001b[0m \u001b[0;34m.\u001b[0m\u001b[0mutils\u001b[0m \u001b[0;32mimport\u001b[0m \u001b[0;34m*\u001b[0m\u001b[0;34m\u001b[0m\u001b[0;34m\u001b[0m\u001b[0m\n\u001b[1;32m      3\u001b[0m \u001b[0;32mfrom\u001b[0m \u001b[0;34m.\u001b[0m\u001b[0mtest_functions\u001b[0m \u001b[0;32mimport\u001b[0m \u001b[0;34m*\u001b[0m\u001b[0;34m\u001b[0m\u001b[0;34m\u001b[0m\u001b[0m\n",
      "\u001b[0;32m~/TA/ELE6307_2023/A1/common/resnet.py\u001b[0m in \u001b[0;36m<module>\u001b[0;34m\u001b[0m\n\u001b[1;32m     13\u001b[0m \u001b[0;32mfrom\u001b[0m \u001b[0mfunctools\u001b[0m \u001b[0;32mimport\u001b[0m \u001b[0mpartial\u001b[0m\u001b[0;34m\u001b[0m\u001b[0;34m\u001b[0m\u001b[0m\n\u001b[1;32m     14\u001b[0m \u001b[0;32mfrom\u001b[0m \u001b[0mtyping\u001b[0m \u001b[0;32mimport\u001b[0m \u001b[0mDict\u001b[0m\u001b[0;34m,\u001b[0m \u001b[0mType\u001b[0m\u001b[0;34m,\u001b[0m \u001b[0mAny\u001b[0m\u001b[0;34m,\u001b[0m \u001b[0mCallable\u001b[0m\u001b[0;34m,\u001b[0m \u001b[0mUnion\u001b[0m\u001b[0;34m,\u001b[0m \u001b[0mList\u001b[0m\u001b[0;34m,\u001b[0m \u001b[0mOptional\u001b[0m\u001b[0;34m\u001b[0m\u001b[0;34m\u001b[0m\u001b[0m\n\u001b[0;32m---> 15\u001b[0;31m \u001b[0;32mfrom\u001b[0m \u001b[0;34m.\u001b[0m\u001b[0;34m.\u001b[0m\u001b[0msolution\u001b[0m \u001b[0;32mimport\u001b[0m \u001b[0mQuantized_Linear\u001b[0m\u001b[0;34m,\u001b[0m \u001b[0mQuantized_Conv2d\u001b[0m\u001b[0;34m\u001b[0m\u001b[0;34m\u001b[0m\u001b[0m\n\u001b[0m\u001b[1;32m     16\u001b[0m \u001b[0;34m\u001b[0m\u001b[0m\n\u001b[1;32m     17\u001b[0m \u001b[0mcifar10_pretrained_weight_url\u001b[0m \u001b[0;34m=\u001b[0m \u001b[0;34m'https://github.com/chenyaofo/pytorch-cifar-models/releases/download/resnet/cifar10_resnet20-4118986f.pt'\u001b[0m\u001b[0;34m\u001b[0m\u001b[0;34m\u001b[0m\u001b[0m\n",
      "\u001b[0;31mValueError\u001b[0m: attempted relative import beyond top-level package"
     ]
    }
   ],
   "source": [
    "import solution\n",
    "from common.test_functions import *\n",
    "import torch\n",
    "import numpy as np\n",
    "from matplotlib import pyplot as plt"
   ]
  },
  {
   "cell_type": "markdown",
   "metadata": {
    "id": "8R6Y-rcbVuMG",
    "pycharm": {
     "name": "#%% md\n"
    }
   },
   "source": [
    "* First, complete `stochastic_rounding`, `linear_quantize`, `linear_dequantize` and `update_scale_and_zero_point` functions and then run the below tests."
   ]
  },
  {
   "cell_type": "code",
   "execution_count": 2,
   "metadata": {
    "colab": {
     "base_uri": "https://localhost:8080/"
    },
    "executionInfo": {
     "elapsed": 7384,
     "status": "ok",
     "timestamp": 1671839373665,
     "user": {
      "displayName": "Kamran Chitsaz",
      "userId": "11523427737255564352"
     },
     "user_tz": 300
    },
    "id": "Usu5pr3cVUX0",
    "outputId": "0d81f507-6bfd-4f95-8620-928f88dafe6b",
    "pycharm": {
     "name": "#%%\n"
    }
   },
   "outputs": [
    {
     "name": "stdout",
     "output_type": "stream",
     "text": [
      "* Test passed.\n",
      "* Test passed.\n",
      "* Test passed.\n"
     ]
    }
   ],
   "source": [
    "test_linear_quantize()\n",
    "test_linear_dequantize()\n",
    "test_update_scale_and_zero_point()\n",
    "test_STE_grad()"
   ]
  },
  {
   "cell_type": "markdown",
   "metadata": {
    "id": "moxo1oHfWVXk",
    "pycharm": {
     "name": "#%% md\n"
    }
   },
   "source": [
    "* Now we will see the performance of each quantization method on there different dataset."
   ]
  },
  {
   "cell_type": "code",
   "execution_count": 4,
   "metadata": {},
   "outputs": [
    {
     "data": {
      "image/png": "[encoded data removed]",
      "text/plain": [
       "<Figure size 1080x216 with 3 Axes>"
      ]
     },
     "metadata": {},
     "output_type": "display_data"
    }
   ],
   "source": [
    "data = torch.load('Dataset_A.t')\n",
    "plot_real_dequantized_histogram(data, N_bits=2)"
   ]
  },
  {
   "cell_type": "code",
   "execution_count": 5,
   "metadata": {},
   "outputs": [
    {
     "data": {
      "image/png": "[encoded data removed]",
      "text/plain": [
       "<Figure size 1080x216 with 3 Axes>"
      ]
     },
     "metadata": {},
     "output_type": "display_data"
    }
   ],
   "source": [
    "data = torch.load('Dataset_B.t')\n",
    "plot_real_dequantized_histogram(data, N_bits=2)"
   ]
  },
  {
   "cell_type": "markdown",
   "metadata": {
    "id": "XaDHpDHQ3bWG",
    "pycharm": {
     "name": "#%% md\n"
    }
   },
   "source": [
    "* Compare your results. Which method works better? Do you think the quantiztion error has a bias? explain your observation.\n",
    "\n",
    "*your answer here*"
   ]
  },
  {
   "cell_type": "markdown",
   "metadata": {
    "id": "HnK3c81SknhI",
    "pycharm": {
     "name": "#%% md\n"
    }
   },
   "source": [
    "\\begin{array}{|c|ccc|ccc|}\\hline\\\\ \n",
    "     Dataset && A &&& B \\\\ \\hline\n",
    "Bit width & 4 & 3 & 2 & 4 & 3 & 2 \\\\ \\hline\n",
    "Min-Max & ?? & ?? & ?? & ?? & ?? & ?? \\\\ \n",
    "Heuristic Method & ?? & ?? & ?? & ?? & ?? & ?? \\\\ \n",
    "ACIQ(MSE) & ?? & ?? & ?? & ?? & ?? & ?? \\\\ \\hline\n",
    "\\end{array}"
   ]
  },
  {
   "cell_type": "markdown",
   "metadata": {
    "id": "cpm9LMzkxoMv",
    "pycharm": {
     "name": "#%% md\n"
    }
   },
   "source": [
    "TODO\n",
    "* Replicate the previous table for stochastic rounding.  Do you observe any improvement?\n",
    "\n",
    "*your answer here*"
   ]
  },
  {
   "cell_type": "markdown",
   "metadata": {
    "id": "VpegJgT9RVvG",
    "pycharm": {
     "name": "#%% md\n"
    }
   },
   "source": [
    "## 2- Post-Training Quantization [70 pts]"
   ]
  },
  {
   "cell_type": "markdown",
   "metadata": {
    "id": "W9KQNXZoZofO",
    "pycharm": {
     "name": "#%% md\n"
    }
   },
   "source": [
    "Our goal is to reduce the precision of both the weights and intermediate activations, with minimal impact on the accuracy of the model. In this assignment, we will use a calibration set, a small fraction of the training set, to calibrate the intermediate activations. "
   ]
  },
  {
   "cell_type": "markdown",
   "metadata": {
    "id": "vUDro-oYXJL3",
    "pycharm": {
     "name": "#%% md\n"
    }
   },
   "source": [
    "* Implement linear and convolution quantized function using your quntization block and verify your results."
   ]
  },
  {
   "cell_type": "code",
   "execution_count": 5,
   "metadata": {
    "pycharm": {
     "name": "#%%\n"
    }
   },
   "outputs": [],
   "source": [
    "test_quantized_linear_function(weight_N_bits=2, act_N_bits=8, q_method='SAWB', bias=False)\n",
    "test_quantized_linear_module(weight_N_bits=8, act_N_bits=8, q_method='sym', bias=False)"
   ]
  },
  {
   "cell_type": "code",
   "execution_count": 4,
   "metadata": {
    "pycharm": {
     "name": "#%%\n"
    }
   },
   "outputs": [],
   "source": [
    "test_quantized_conv2d_function(weight_N_bits=2, act_N_bits=2, q_method='sym', bias=False)\n",
    "test_quantized_conv2d_module(weight_N_bits=8, act_N_bits=8, q_method='SAWB', bias=False)"
   ]
  },
  {
   "cell_type": "markdown",
   "metadata": {
    "id": "31MbpcH2S7cf",
    "pycharm": {
     "name": "#%% md\n"
    }
   },
   "source": [
    "* In this assignment we use resnet20 with pre-trained weights on CIFAR10. First, Let's see the accuracy and model size of our network."
   ]
  },
  {
   "cell_type": "code",
   "execution_count": 3,
   "metadata": {
    "executionInfo": {
     "elapsed": 208,
     "status": "ok",
     "timestamp": 1671839707159,
     "user": {
      "displayName": "Kamran Chitsaz",
      "userId": "11523427737255564352"
     },
     "user_tz": 300
    },
    "id": "3HYspOWxw29A",
    "pycharm": {
     "name": "#%%\n"
    }
   },
   "outputs": [],
   "source": [
    "from utils import load_CIFAR10_dataset, evaluate, fit, summary\n",
    "from resnet import resnet20"
   ]
  },
  {
   "cell_type": "code",
   "execution_count": 4,
   "metadata": {
    "id": "eqkaY-CWaXR3",
    "pycharm": {
     "name": "#%%\n"
    }
   },
   "outputs": [
    {
     "name": "stdout",
     "output_type": "stream",
     "text": [
      "Files already downloaded and verified\n",
      "Files already downloaded and verified\n",
      "\n",
      "model size: 1.09 Mb and memory footprint: 6.74Mb.\n",
      "test accuracy of fp model: 91.66999816894531\n"
     ]
    }
   ],
   "source": [
    "train_loader, test_loader, calibration_loader = load_CIFAR10_dataset(batch_size=128, calibration_batch_size=1024)\n",
    "model = resnet20(pretrained=True, save_path='./save/')\n",
    "device = torch.device('cuda:0')\n",
    "model.to(device)\n",
    "\n",
    "\n",
    "res = summary(model, input_size=(3, 32, 32), device=torch.device('cuda'))\n",
    "model_size = np.round(res['model_size'], 2)\n",
    "memory_footprint = np.round(res['model_size']+res['activation_size'], 2)\n",
    "print(f'\\nmodel size: {model_size} Mb and memory footprint: {memory_footprint}Mb.')\n",
    "\n",
    "accuracy = evaluate(model, test_loader, device)\n",
    "print(\"test accuracy of fp model:\", accuracy)\n"
   ]
  },
  {
   "cell_type": "markdown",
   "metadata": {
    "id": "N36zX5HacnPA",
    "pycharm": {
     "name": "#%% md\n"
    }
   },
   "source": [
    "* In the first step, we use calibration set to initial scale factors and zero points of the activation in each layer."
   ]
  },
  {
   "cell_type": "code",
   "execution_count": 5,
   "metadata": {
    "executionInfo": {
     "elapsed": 826,
     "status": "ok",
     "timestamp": 1671840528112,
     "user": {
      "displayName": "Kamran Chitsaz",
      "userId": "11523427737255564352"
     },
     "user_tz": 300
    },
    "id": "IhAc13r8ckCc",
    "pycharm": {
     "name": "#%%\n"
    }
   },
   "outputs": [],
   "source": [
    "method='int_quantize'\n",
    "q_method='SAWB'\n",
    "act_N_bits=4\n",
    "weight_N_bits=4\n",
    "quantized_model = model_to_quant(model, calibration_loader, act_N_bits, weight_N_bits,method, q_method, device)"
   ]
  },
  {
   "cell_type": "code",
   "execution_count": 6,
   "metadata": {},
   "outputs": [
    {
     "name": "stdout",
     "output_type": "stream",
     "text": [
      "\n",
      "model size: 0.14 Mb and memory footprint: 4.33Mb.\n",
      "test accuracy of fp model: 76.62000274658203\n"
     ]
    }
   ],
   "source": [
    "res = summary(quantized_model, input_size=(3, 32, 32), device=torch.device('cuda'))\n",
    "model_size = np.round(res['model_size'], 2)\n",
    "memory_footprint = np.round(res['model_size']+res['activation_size'], 2)\n",
    "print(f'\\nmodel size: {model_size} Mb and memory footprint: {memory_footprint}Mb.')\n",
    "accuracy = evaluate(quantized_model, test_loader, device)\n",
    "print(\"test accuracy of fp model:\", accuracy)"
   ]
  },
  {
   "cell_type": "markdown",
   "metadata": {
    "id": "aH4Cx3aVrufE",
    "pycharm": {
     "name": "#%% md\n"
    }
   },
   "source": [
    "* Try 4bit and 2bit quantization."
   ]
  },
  {
   "cell_type": "markdown",
   "metadata": {
    "id": "NCF0o0HMpDob",
    "pycharm": {
     "name": "#%% md\n"
    }
   },
   "source": [
    "## 3- Mixed-precision [30 pts]"
   ]
  },
  {
   "cell_type": "markdown",
   "metadata": {
    "id": "A5ZoLeeFXUSm",
    "pycharm": {
     "name": "#%% md\n"
    }
   },
   "source": [
    "In the Mixed-precision (or \"variable precision\") method, each layer is quantized with different bit precision. In this part, we want to find the optimal model-size for the resnet20 on the CIFAR-10 dataset. For this part, we 32 bit for activation quantization and we focus only on weight quantization. "
   ]
  },
  {
   "cell_type": "markdown",
   "metadata": {
    "id": "GCUcFhgVU3vE",
    "pycharm": {
     "name": "#%% md\n"
    }
   },
   "source": [
    "* Use a method of your choice to find the optimal model size with a constraint on test accuracy above 85\\%. \n",
    "Any reasonable attempt at exploring the design space will give you full marks. Better approaches/results will be considered for bonus points. "
   ]
  },
  {
   "cell_type": "markdown",
   "metadata": {
    "id": "JedWJ9P0eXq3",
    "pycharm": {
     "name": "#%% md\n"
    }
   },
   "source": [
    "## 4- Quantization Aware Training [30 pts]"
   ]
  },
  {
   "cell_type": "markdown",
   "metadata": {
    "id": "XRMacZRHehDL",
    "pycharm": {
     "name": "#%% md\n"
    }
   },
   "source": [
    "* In this part ..."
   ]
  },
  {
   "cell_type": "code",
   "execution_count": 16,
   "metadata": {
    "id": "ATHAgn9rehMl",
    "pycharm": {
     "name": "#%%\n"
    }
   },
   "outputs": [],
   "source": [
    "criterion = torch.nn.CrossEntropyLoss()\n",
    "optimizer = torch.optim.SGD(quantized_model.parameters(), 1e-4, momentum=0.9, weight_decay=0.0005, nesterov=True)\n",
    "scheduler = None"
   ]
  },
  {
   "cell_type": "code",
   "execution_count": 7,
   "metadata": {
    "pycharm": {
     "name": "#%%\n"
    }
   },
   "outputs": [],
   "source": [
    "train_accuracy, test_accuracy = fit(quantized_model, 10, train_loader, test_loader, criterion, optimizer, scheduler, device)\n"
   ]
  },
  {
   "cell_type": "code",
   "execution_count": null,
   "metadata": {},
   "outputs": [],
   "source": []
  }
 ],
 "metadata": {
  "accelerator": "GPU",
  "colab": {
   "collapsed_sections": [
    "NCF0o0HMpDob"
   ],
   "provenance": []
  },
  "kernelspec": {
   "display_name": "Python 3",
   "language": "python",
   "name": "python3"
  },
  "language_info": {
   "codemirror_mode": {
    "name": "ipython",
    "version": 3
   },
   "file_extension": ".py",
   "mimetype": "text/x-python",
   "name": "python",
   "nbconvert_exporter": "python",
   "pygments_lexer": "ipython3",
   "version": "3.6.8"
  }
 },
 "nbformat": 4,
 "nbformat_minor": 1
}
