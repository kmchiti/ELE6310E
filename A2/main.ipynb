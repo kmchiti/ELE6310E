{
 "cells": [
  {
   "cell_type": "markdown",
   "metadata": {
    "id": "NdA4KjrNwn5B",
    "pycharm": {
     "name": "#%% md\n"
    }
   },
   "source": [
    "# ELE6310 - Assignment 2 - Data-Flow and Design Space"
   ]
  },
  {
   "cell_type": "markdown",
   "metadata": {
    "id": "Cm4CU_e6xHpL",
    "pycharm": {
     "name": "#%% md\n"
    }
   },
   "source": [
    "#### Name: \n",
    "#### Student ID: "
   ]
  },
  {
   "cell_type": "code",
   "execution_count": null,
   "metadata": {
    "id": "HGmDZ11LULkF",
    "pycharm": {
     "name": "#%%\n"
    }
   },
   "outputs": [],
   "source": [
    "#@title Mount your Google Drive\n",
    "%matplotlib inline\n",
    "%load_ext autoreload\n",
    "%autoreload 2\n",
    "\n",
    "from google.colab import drive\n",
    "drive.mount('/content/gdrive')\n"
   ]
  },
  {
   "cell_type": "code",
   "execution_count": null,
   "metadata": {
    "id": "5DF9zCVJULkH",
    "pycharm": {
     "name": "#%%\n"
    }
   },
   "outputs": [],
   "source": [
    "#@title Link your assignment folder & install requirements\n",
    "#@markdown Enter the path to the assignment folder in your Google Drive\n",
    "import sys\n",
    "import os\n",
    "import shutil\n",
    "import warnings\n",
    "\n",
    "folder = \"/content/gdrive/MyDrive/ELE6310/A2\" #@param {type:\"string\"}\n",
    "!ln -Ts $folder /content/A2 2> /dev/null\n",
    "\n",
    "# Add the assignment folder to Python path\n",
    "if '/content/A2' not in sys.path:\n",
    "    sys.path.insert(0, '/content/A2')\n",
    "\n",
    "# Install requirements\n",
    "!pip install -qr /content/A2/requirements.txt\n",
    "\n",
    "# Check if CUDA is available\n",
    "import torch\n",
    "if not torch.cuda.is_available():\n",
    "    warnings.warn('CUDA is not available.')"
   ]
  },
  {
   "cell_type": "markdown",
   "metadata": {
    "id": "GnYxJmVqyj6a",
    "pycharm": {
     "name": "#%% md\n"
    }
   },
   "source": [
    "## 1- Structured Pruning"
   ]
  },
  {
   "cell_type": "markdown",
   "source": [
    "* First, complete `model_to_spars` and `generate_resnet_layers` in `solution. py`."
   ],
   "metadata": {
    "id": "wrxeD_kz1LCS",
    "pycharm": {
     "name": "#%% md\n"
    }
   }
  },
  {
   "cell_type": "code",
   "execution_count": null,
   "metadata": {
    "id": "TcJ0NuyOoZ4p",
    "pycharm": {
     "name": "#%%\n"
    }
   },
   "outputs": [],
   "source": [
    "import solution\n",
    "import torch\n",
    "import numpy as np\n",
    "import random\n",
    "from matplotlib import pyplot as plt\n",
    "import os"
   ]
  },
  {
   "cell_type": "code",
   "execution_count": null,
   "metadata": {
    "id": "3HYspOWxw29A",
    "pycharm": {
     "name": "#%%\n"
    }
   },
   "outputs": [],
   "source": [
    "from common.utils import load_CIFAR10_dataset, evaluate, fit, model_size\n",
    "from common.resnet import resnet20"
   ]
  },
  {
   "cell_type": "code",
   "execution_count": null,
   "metadata": {
    "id": "LGCwFFPmlgve",
    "pycharm": {
     "name": "#%%\n"
    }
   },
   "outputs": [],
   "source": [
    "Seed = 6310\n",
    "torch.manual_seed(Seed)\n",
    "np.random.seed(Seed)\n",
    "random.seed(Seed)\n",
    "if torch.cuda.is_available():\n",
    "    torch.cuda.manual_seed(Seed)\n",
    "    torch.cuda.manual_seed_all(Seed)"
   ]
  },
  {
   "cell_type": "code",
   "execution_count": null,
   "metadata": {
    "id": "eqkaY-CWaXR3",
    "pycharm": {
     "name": "#%%\n"
    }
   },
   "outputs": [],
   "source": [
    "train_loader, test_loader, calibration_loader = load_CIFAR10_dataset(batch_size=256, calibration_batch_size=1024)\n",
    "model = resnet20(pretrained=True, save_path='./save/')\n",
    "device = torch.device('cuda:0')\n",
    "model.to(device)\n",
    "\n",
    "accuracy = evaluate(model, test_loader, device)\n",
    "print(\"test accuracy of fp model:\", accuracy, \"model size:\", model_size(model))\n"
   ]
  },
  {
   "cell_type": "markdown",
   "source": [
    "* Use a method of your choice to find the optimal energy consumption for ResNet-20 with a constraint on test accuracy above 85%.\n",
    "\n",
    "Any reasonable attempt at exploring the design space will give you full marks. Better approaches/results will be considered for bonus points."
   ],
   "metadata": {
    "id": "HP5y4Q4x1jsL",
    "pycharm": {
     "name": "#%% md\n"
    }
   }
  },
  {
   "cell_type": "code",
   "execution_count": null,
   "metadata": {
    "id": "2LObcz_mlgvf",
    "pycharm": {
     "name": "#%%\n"
    }
   },
   "outputs": [],
   "source": [
    "prune_ratio_dict = {\n",
    "    'conv1': 0.3,\n",
    "    'layer1.0.conv1': 0.3,\n",
    "    'layer1.0.conv2': 0.3,\n",
    "    'layer1.1.conv1': 0.3,\n",
    "    'layer1.1.conv2': 0.3,\n",
    "    'layer1.2.conv1': 0.3,\n",
    "    'layer1.2.conv2': 0.3,\n",
    "    \n",
    "    'layer2.0.conv1': 0.3,\n",
    "    'layer2.0.conv2': 0.3,\n",
    "    'layer2.0.downsample.0': 0.3,\n",
    "    'layer2.1.conv1': 0.3,\n",
    "    'layer2.1.conv2': 0.3,\n",
    "    'layer2.2.conv1': 0.3,\n",
    "    'layer2.2.conv2': 0.3,\n",
    "    \n",
    "    'layer3.0.conv1': 0.3,\n",
    "    'layer3.0.conv2': 0.3,\n",
    "    'layer3.0.downsample.0': 0.3,\n",
    "    'layer3.1.conv1': 0.3,\n",
    "    'layer3.1.conv2': 0.3,\n",
    "    'layer3.2.conv1': 0.3,\n",
    "    'layer3.2.conv2': 0.3\n",
    "}\n"
   ]
  },
  {
   "cell_type": "code",
   "execution_count": null,
   "metadata": {
    "id": "C_DTblJwlgvf",
    "pycharm": {
     "name": "#%%\n"
    }
   },
   "outputs": [],
   "source": [
    "\n",
    "sparsed_model = solution.model_to_spars(model, prune_ratio_dict)\n",
    "accuracy = evaluate(sparsed_model, test_loader, device)\n",
    "print(\"test accuracy after pruning:\", accuracy, \"model size:\", model_size(sparsed_model))\n"
   ]
  },
  {
   "cell_type": "code",
   "execution_count": null,
   "metadata": {
    "id": "AvJw8ndD0AJ1",
    "pycharm": {
     "name": "#%%\n"
    }
   },
   "outputs": [],
   "source": [
    "criterion = torch.nn.CrossEntropyLoss()\n",
    "optimizer = torch.optim.SGD(sparsed_model.parameters(), 1e-3, momentum=0.9, weight_decay=0.0005, nesterov=True)\n",
    "scheduler = None\n",
    "train_accuracy, test_accuracy = fit(sparsed_model, 5, train_loader, test_loader, criterion, optimizer, scheduler, device)"
   ]
  },
  {
   "cell_type": "markdown",
   "source": [
    "After fine-tuning, save the model and generate the YAML files for each layers of the pruned network. Then you can use `run_Accelergy` to estimate the energy consumption of pruned network."
   ],
   "metadata": {
    "id": "J7i8AnuX2O8H",
    "pycharm": {
     "name": "#%% md\n"
    }
   }
  },
  {
   "cell_type": "code",
   "execution_count": null,
   "metadata": {
    "id": "0ge9bKcR0AJ1",
    "pycharm": {
     "name": "#%%\n"
    }
   },
   "outputs": [],
   "source": [
    "solution.generate_resnet_layers(sparsed_model, base_path='common/layer_prob_base.yaml',  path='Q3/prob')"
   ]
  }
 ],
 "metadata": {
  "accelerator": "GPU",
  "colab": {
   "collapsed_sections": [
    "NCF0o0HMpDob"
   ],
   "provenance": []
  },
  "kernelspec": {
   "display_name": "Python 3",
   "language": "python",
   "name": "python3"
  },
  "language_info": {
   "codemirror_mode": {
    "name": "ipython",
    "version": 3
   },
   "file_extension": ".py",
   "mimetype": "text/x-python",
   "name": "python",
   "nbconvert_exporter": "python",
   "pygments_lexer": "ipython3",
   "version": "3.6.8"
  }
 },
 "nbformat": 4,
 "nbformat_minor": 0
}